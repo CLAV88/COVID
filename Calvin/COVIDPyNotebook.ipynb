{
 "nbformat": 4,
 "nbformat_minor": 2,
 "metadata": {
  "language_info": {
   "name": "python",
   "codemirror_mode": {
    "name": "ipython",
    "version": 3
   },
   "version": "3.6.9-final"
  },
  "orig_nbformat": 2,
  "file_extension": ".py",
  "mimetype": "text/x-python",
  "name": "python",
  "npconvert_exporter": "python",
  "pygments_lexer": "ipython3",
  "version": 3,
  "kernelspec": {
   "name": "python36964bitcovid19calvinvenv0eabab091731419fbb3601b3614d4444",
   "display_name": "Python 3.6.9 64-bit ('COVID-19_CALVIN': venv)"
  }
 },
 "cells": [
  {
   "cell_type": "code",
   "execution_count": 1,
   "metadata": {},
   "outputs": [],
   "source": [
    "import os\n",
    "import glob\n",
    "import psycopg2\n",
    "import pandas as pd\n",
    "from matplotlib import pyplot"
   ]
  },
  {
   "cell_type": "code",
   "execution_count": 2,
   "metadata": {},
   "outputs": [],
   "source": [
    "##Get all the Data from the inserted filepath"
   ]
  },
  {
   "cell_type": "code",
   "execution_count": 3,
   "metadata": {},
   "outputs": [],
   "source": [
    "def get_files(filepath):\n",
    "    all_files = []\n",
    "    for root, dirs, files in os.walk(filepath):\n",
    "        files = glob.glob(os.path.join(root,'*.csv'))\n",
    "        for f in files :\n",
    "            all_files.append(os.path.abspath(f))\n",
    "    \n",
    "    return all_files"
   ]
  },
  {
   "cell_type": "code",
   "execution_count": 4,
   "metadata": {},
   "outputs": [],
   "source": [
    "filepath_dailyReports = \"../COVID-19/csse_covid_19_data/csse_covid_19_daily_reports\""
   ]
  },
  {
   "cell_type": "code",
   "execution_count": 5,
   "metadata": {},
   "outputs": [],
   "source": [
    "daily_report_files = get_files(filepath_dailyReports)\n",
    "##print(daily_report_files)"
   ]
  },
  {
   "cell_type": "code",
   "execution_count": 6,
   "metadata": {},
   "outputs": [
    {
     "output_type": "execute_result",
     "data": {
      "text/plain": "  Province/State  Country/Region          Last Update  Confirmed  Deaths  \\\n0          Hubei  Mainland China  2020-02-14T23:33:02    54406.0  1457.0   \n1      Guangdong  Mainland China  2020-02-14T12:53:02     1261.0     2.0   \n2          Henan  Mainland China  2020-02-14T12:53:02     1184.0    11.0   \n3       Zhejiang  Mainland China  2020-02-14T14:13:15     1155.0     0.0   \n4          Hunan  Mainland China  2020-02-14T09:23:04      988.0     2.0   \n5          Anhui  Mainland China  2020-02-14T12:53:02      934.0     6.0   \n6        Jiangxi  Mainland China  2020-02-14T01:13:06      900.0     1.0   \n7        Jiangsu  Mainland China  2020-02-14T10:03:03      593.0     0.0   \n8      Chongqing  Mainland China  2020-02-14T23:33:02      537.0     5.0   \n9       Shandong  Mainland China  2020-02-14T11:13:22      523.0     2.0   \n\n   Recovered  Latitude  Longitude  \n0     4774.0       NaN        NaN  \n1      362.0       NaN        NaN  \n2      357.0       NaN        NaN  \n3      403.0       NaN        NaN  \n4      364.0       NaN        NaN  \n5      193.0       NaN        NaN  \n6      187.0       NaN        NaN  \n7      157.0       NaN        NaN  \n8      152.0       NaN        NaN  \n9      136.0       NaN        NaN  ",
      "text/html": "<div>\n<style scoped>\n    .dataframe tbody tr th:only-of-type {\n        vertical-align: middle;\n    }\n\n    .dataframe tbody tr th {\n        vertical-align: top;\n    }\n\n    .dataframe thead th {\n        text-align: right;\n    }\n</style>\n<table border=\"1\" class=\"dataframe\">\n  <thead>\n    <tr style=\"text-align: right;\">\n      <th></th>\n      <th>Province/State</th>\n      <th>Country/Region</th>\n      <th>Last Update</th>\n      <th>Confirmed</th>\n      <th>Deaths</th>\n      <th>Recovered</th>\n      <th>Latitude</th>\n      <th>Longitude</th>\n    </tr>\n  </thead>\n  <tbody>\n    <tr>\n      <th>0</th>\n      <td>Hubei</td>\n      <td>Mainland China</td>\n      <td>2020-02-14T23:33:02</td>\n      <td>54406.0</td>\n      <td>1457.0</td>\n      <td>4774.0</td>\n      <td>NaN</td>\n      <td>NaN</td>\n    </tr>\n    <tr>\n      <th>1</th>\n      <td>Guangdong</td>\n      <td>Mainland China</td>\n      <td>2020-02-14T12:53:02</td>\n      <td>1261.0</td>\n      <td>2.0</td>\n      <td>362.0</td>\n      <td>NaN</td>\n      <td>NaN</td>\n    </tr>\n    <tr>\n      <th>2</th>\n      <td>Henan</td>\n      <td>Mainland China</td>\n      <td>2020-02-14T12:53:02</td>\n      <td>1184.0</td>\n      <td>11.0</td>\n      <td>357.0</td>\n      <td>NaN</td>\n      <td>NaN</td>\n    </tr>\n    <tr>\n      <th>3</th>\n      <td>Zhejiang</td>\n      <td>Mainland China</td>\n      <td>2020-02-14T14:13:15</td>\n      <td>1155.0</td>\n      <td>0.0</td>\n      <td>403.0</td>\n      <td>NaN</td>\n      <td>NaN</td>\n    </tr>\n    <tr>\n      <th>4</th>\n      <td>Hunan</td>\n      <td>Mainland China</td>\n      <td>2020-02-14T09:23:04</td>\n      <td>988.0</td>\n      <td>2.0</td>\n      <td>364.0</td>\n      <td>NaN</td>\n      <td>NaN</td>\n    </tr>\n    <tr>\n      <th>5</th>\n      <td>Anhui</td>\n      <td>Mainland China</td>\n      <td>2020-02-14T12:53:02</td>\n      <td>934.0</td>\n      <td>6.0</td>\n      <td>193.0</td>\n      <td>NaN</td>\n      <td>NaN</td>\n    </tr>\n    <tr>\n      <th>6</th>\n      <td>Jiangxi</td>\n      <td>Mainland China</td>\n      <td>2020-02-14T01:13:06</td>\n      <td>900.0</td>\n      <td>1.0</td>\n      <td>187.0</td>\n      <td>NaN</td>\n      <td>NaN</td>\n    </tr>\n    <tr>\n      <th>7</th>\n      <td>Jiangsu</td>\n      <td>Mainland China</td>\n      <td>2020-02-14T10:03:03</td>\n      <td>593.0</td>\n      <td>0.0</td>\n      <td>157.0</td>\n      <td>NaN</td>\n      <td>NaN</td>\n    </tr>\n    <tr>\n      <th>8</th>\n      <td>Chongqing</td>\n      <td>Mainland China</td>\n      <td>2020-02-14T23:33:02</td>\n      <td>537.0</td>\n      <td>5.0</td>\n      <td>152.0</td>\n      <td>NaN</td>\n      <td>NaN</td>\n    </tr>\n    <tr>\n      <th>9</th>\n      <td>Shandong</td>\n      <td>Mainland China</td>\n      <td>2020-02-14T11:13:22</td>\n      <td>523.0</td>\n      <td>2.0</td>\n      <td>136.0</td>\n      <td>NaN</td>\n      <td>NaN</td>\n    </tr>\n  </tbody>\n</table>\n</div>"
     },
     "metadata": {},
     "execution_count": 6
    }
   ],
   "source": [
    "\n",
    "daily_reports_dfs =[]\n",
    "for f in daily_report_files:\n",
    "    daily_reports_dfs.append(pd.read_csv(f))\n",
    "# Concatenate all data into one DataFrame\n",
    "df = pd.concat(daily_reports_dfs, ignore_index=True)\n",
    "df_daily_reports = df\n",
    "df_daily_reports.head(10)"
   ]
  },
  {
   "cell_type": "code",
   "execution_count": 7,
   "metadata": {},
   "outputs": [],
   "source": [
    "filepath_timeSeries = \"../COVID-19/csse_covid_19_data/csse_covid_19_time_series/\""
   ]
  },
  {
   "cell_type": "code",
   "execution_count": 8,
   "metadata": {},
   "outputs": [],
   "source": [
    "time_series_files = get_files(filepath_timeSeries)"
   ]
  },
  {
   "cell_type": "code",
   "execution_count": 9,
   "metadata": {},
   "outputs": [],
   "source": [
    "##Read Confirmed cases time_series data"
   ]
  },
  {
   "cell_type": "code",
   "execution_count": 12,
   "metadata": {},
   "outputs": [
    {
     "output_type": "stream",
     "name": "stdout",
     "text": "Recovered\nDeaths\nConfirmed\n"
    }
   ],
   "source": [
    "# for f in time_series_files:\n",
    "#     file_type = f.split(\"-\")[4].split(\".\")[0]\n",
    "#     print(file_type)\n",
    "#     if (file_type) == 'Deaths':\n",
    "#             df = pd.read_csv(f)\n",
    "#             df_time_series_deaths_transposed = df.T\n",
    "#             headers = df_time_series_deaths_transposed.iloc[1]\n",
    "#             df_time_series_deaths = pd.DataFrame(df_time_series_deaths_transposed[4:], columns = headers).fillna(0)\n",
    "#             df_time_series_deaths.head(10)  \n",
    "#     elif (file_type) == 'Confirmed':\n",
    "#             df = pd.read_csv(f)\n",
    "#             df_time_series_confirmed_transposed = df.T\n",
    "#             headers = df_time_series_confirmed_transposed.iloc[1]\n",
    "#             df_time_series_confirmed = pd.DataFrame(df_time_series_confirmed_transposed[4:], columns = headers).fillna(0)\n",
    "#             df_time_series_confirmed.head(10)\n",
    "#     elif (file_type) == 'Recovered':\n",
    "#             df = pd.read_csv(f)\n",
    "#             df_time_series_recovered_transposed = df.T\n",
    "#             headers = df_time_series_recovered_transposed.iloc[1]\n",
    "#             df_time_series_recovered = pd.DataFrame(df_time_series_recovered_transposed[4:], columns = headers).fillna(0)\n",
    "#             df_time_series_recovered.head(10)\n",
    "\n",
    "    ##df = pd.read_csv(filepath_timeSeries_confirmed)\n",
    "    ##df_time_series_confirmed = df\n",
    "    ##df_time_series_confirmed.head(10)\n",
    "\n",
    "for f in time_series_files:\n",
    "        file_type = f.split(\"-\")[4].split(\".\")[0]\n",
    "        print(file_type)\n",
    "if (file_type) == 'Deaths':\n",
    "        df = pd.read_csv(f)\n",
    "        df_time_series_deaths = df\n",
    "elif (file_type) == 'Confirmed':\n",
    "        df = pd.read_csv(f)\n",
    "        df_time_series_confirmed = df\n",
    "elif (file_type) == 'Recovered':\n",
    "        df = pd.read_csv(f)\n",
    "        df_time_series_recovered = df"
   ]
  },
  {
   "cell_type": "code",
   "execution_count": 13,
   "metadata": {},
   "outputs": [
    {
     "output_type": "error",
     "ename": "NameError",
     "evalue": "name 'df_time_series_deaths' is not defined",
     "traceback": [
      "\u001b[0;31m---------------------------------------------------------------------------\u001b[0m",
      "\u001b[0;31mNameError\u001b[0m                                 Traceback (most recent call last)",
      "\u001b[0;32m<ipython-input-13-a75aa5f5867f>\u001b[0m in \u001b[0;36m<module>\u001b[0;34m\u001b[0m\n\u001b[0;32m----> 1\u001b[0;31m \u001b[0mdf_time_series_deaths\u001b[0m\u001b[0;34m.\u001b[0m\u001b[0mhead\u001b[0m\u001b[0;34m(\u001b[0m\u001b[0;36m10\u001b[0m\u001b[0;34m)\u001b[0m\u001b[0;34m\u001b[0m\u001b[0;34m\u001b[0m\u001b[0m\n\u001b[0m",
      "\u001b[0;31mNameError\u001b[0m: name 'df_time_series_deaths' is not defined"
     ]
    }
   ],
   "source": [
    "df_time_series_recovered.head(10)"
   ]
  },
  {
   "cell_type": "code",
   "execution_count": null,
   "metadata": {},
   "outputs": [],
   "source": []
  }
 ]
}